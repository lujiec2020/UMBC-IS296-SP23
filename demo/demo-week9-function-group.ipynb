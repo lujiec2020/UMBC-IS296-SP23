{
 "cells": [
  {
   "cell_type": "code",
   "execution_count": 2,
   "id": "79bc6a06",
   "metadata": {},
   "outputs": [],
   "source": [
    "from datascience import *\n",
    "import numpy as np\n",
    "\n",
    "%matplotlib inline\n",
    "import matplotlib.pyplot as plots\n",
    "plots.style.use('fivethirtyeight')"
   ]
  },
  {
   "cell_type": "markdown",
   "id": "1955f628",
   "metadata": {},
   "source": [
    "## Functions ##"
   ]
  },
  {
   "cell_type": "code",
   "execution_count": 33,
   "id": "1ae1abe9",
   "metadata": {},
   "outputs": [
    {
     "data": {
      "text/plain": [
       "'hello EJ'"
      ]
     },
     "execution_count": 33,
     "metadata": {},
     "output_type": "execute_result"
    }
   ],
   "source": [
    "def say_hello(name):\n",
    "    return 'hello ' + name\n",
    "say_hello('EJ')"
   ]
  },
  {
   "cell_type": "code",
   "execution_count": 9,
   "id": "01397e90",
   "metadata": {},
   "outputs": [
    {
     "data": {
      "text/plain": [
       "27"
      ]
     },
     "execution_count": 9,
     "metadata": {},
     "output_type": "execute_result"
    }
   ],
   "source": [
    "triple(9)"
   ]
  },
  {
   "cell_type": "code",
   "execution_count": null,
   "id": "8063ff47",
   "metadata": {},
   "outputs": [],
   "source": [
    "num = 4"
   ]
  },
  {
   "cell_type": "code",
   "execution_count": null,
   "id": "01b0d4aa",
   "metadata": {},
   "outputs": [],
   "source": [
    "triple(num)"
   ]
  },
  {
   "cell_type": "markdown",
   "id": "35a7177f",
   "metadata": {},
   "source": [
    "### Note About Scopes"
   ]
  },
  {
   "cell_type": "code",
   "execution_count": null,
   "id": "2601ae61",
   "metadata": {},
   "outputs": [],
   "source": [
    "x"
   ]
  },
  {
   "cell_type": "code",
   "execution_count": null,
   "id": "61d4bd31",
   "metadata": {},
   "outputs": [],
   "source": [
    "x = 5"
   ]
  },
  {
   "cell_type": "code",
   "execution_count": null,
   "id": "609887f5",
   "metadata": {},
   "outputs": [],
   "source": [
    "triple(2 * x)"
   ]
  },
  {
   "cell_type": "code",
   "execution_count": null,
   "id": "ee29d594",
   "metadata": {
    "scrolled": true
   },
   "outputs": [],
   "source": [
    "x"
   ]
  },
  {
   "cell_type": "markdown",
   "id": "1cd61a36",
   "metadata": {},
   "source": [
    "### Type Agnostic"
   ]
  },
  {
   "cell_type": "code",
   "execution_count": null,
   "id": "5570cbe6",
   "metadata": {},
   "outputs": [],
   "source": [
    "triple('ha')"
   ]
  },
  {
   "cell_type": "code",
   "execution_count": null,
   "id": "ccbf8863",
   "metadata": {},
   "outputs": [],
   "source": [
    "triple(np.arange(4))"
   ]
  },
  {
   "cell_type": "markdown",
   "id": "502272f0",
   "metadata": {},
   "source": [
    "### What this function do?"
   ]
  },
  {
   "cell_type": "code",
   "execution_count": null,
   "id": "f4e97924",
   "metadata": {},
   "outputs": [],
   "source": [
    "def percent_of_total(s):\n",
    "    return np.round(s / sum(s) * 100, 2)"
   ]
  },
  {
   "cell_type": "code",
   "execution_count": null,
   "id": "75e6e2d4",
   "metadata": {},
   "outputs": [],
   "source": [
    "percent_of_total(make_array(1,1,1,1))"
   ]
  },
  {
   "cell_type": "code",
   "execution_count": null,
   "id": "dd5a969a",
   "metadata": {},
   "outputs": [],
   "source": [
    "percent_of_total(make_array(1, 213, 38))"
   ]
  },
  {
   "cell_type": "markdown",
   "id": "9e01bcaa",
   "metadata": {},
   "source": [
    "### Multiple Arguments\n",
    "\n",
    "$ h^2 = x^2 + y^2 \\hspace{20 pt} => \\hspace{20 pt} h = \\sqrt{ x^2 + y^2 } $"
   ]
  },
  {
   "cell_type": "code",
   "execution_count": null,
   "id": "77b77aca",
   "metadata": {},
   "outputs": [],
   "source": [
    "def hypotenuse(x,y):\n",
    "    hypot_squared = (x ** 2 + y ** 2)\n",
    "    return hypot_squared ** 0.5"
   ]
  },
  {
   "cell_type": "code",
   "execution_count": null,
   "id": "23bb6d39",
   "metadata": {},
   "outputs": [],
   "source": [
    "hypotenuse(9, 12)"
   ]
  },
  {
   "cell_type": "code",
   "execution_count": null,
   "id": "e6e74c1d",
   "metadata": {},
   "outputs": [],
   "source": [
    "hypotenuse(2, 2)"
   ]
  },
  {
   "cell_type": "code",
   "execution_count": null,
   "id": "0afa6eef",
   "metadata": {},
   "outputs": [],
   "source": [
    "hypotenuse(1)"
   ]
  },
  {
   "cell_type": "code",
   "execution_count": null,
   "id": "f9a23faa",
   "metadata": {},
   "outputs": [],
   "source": [
    "#write a function called hello2 will do the following\n",
    "#hello2('A','B')\n",
    "#output: 'Hello A and B'"
   ]
  },
  {
   "cell_type": "markdown",
   "id": "7963b49d",
   "metadata": {},
   "source": [
    "## Apply using function"
   ]
  },
  {
   "cell_type": "code",
   "execution_count": 23,
   "id": "e17f56f7",
   "metadata": {},
   "outputs": [
    {
     "data": {
      "text/html": [
       "<table border=\"1\" class=\"dataframe\">\n",
       "    <thead>\n",
       "        <tr>\n",
       "            <th>Name</th> <th>Birth Year</th>\n",
       "        </tr>\n",
       "    </thead>\n",
       "    <tbody>\n",
       "        <tr>\n",
       "            <td>Jim    </td> <td>1985      </td>\n",
       "        </tr>\n",
       "        <tr>\n",
       "            <td>Dwight </td> <td>1988      </td>\n",
       "        </tr>\n",
       "        <tr>\n",
       "            <td>Michael</td> <td>1967      </td>\n",
       "        </tr>\n",
       "        <tr>\n",
       "            <td>Creed  </td> <td>1904      </td>\n",
       "        </tr>\n",
       "    </tbody>\n",
       "</table>"
      ],
      "text/plain": [
       "Name    | Birth Year\n",
       "Jim     | 1985\n",
       "Dwight  | 1988\n",
       "Michael | 1967\n",
       "Creed   | 1904"
      ]
     },
     "execution_count": 23,
     "metadata": {},
     "output_type": "execute_result"
    }
   ],
   "source": [
    "student = Table().with_columns(\n",
    "    'Name', make_array('Jim', 'Dwight', 'Michael', 'Creed'),\n",
    "    'Birth Year', make_array(1985, 1988, 1967, 1904)\n",
    ")\n",
    "student"
   ]
  },
  {
   "cell_type": "code",
   "execution_count": 27,
   "id": "18b7d144",
   "metadata": {},
   "outputs": [],
   "source": [
    "def greeting(person):\n",
    "    return 'Bonjour ' + person"
   ]
  },
  {
   "cell_type": "code",
   "execution_count": 28,
   "id": "89bc8648",
   "metadata": {},
   "outputs": [
    {
     "data": {
      "text/plain": [
       "'Bonjour Pam'"
      ]
     },
     "execution_count": 28,
     "metadata": {},
     "output_type": "execute_result"
    }
   ],
   "source": [
    "greeting('Pam')"
   ]
  },
  {
   "cell_type": "code",
   "execution_count": 29,
   "id": "7ac0ca61",
   "metadata": {},
   "outputs": [
    {
     "data": {
      "text/plain": [
       "'Bonjour Erin'"
      ]
     },
     "execution_count": 29,
     "metadata": {},
     "output_type": "execute_result"
    }
   ],
   "source": [
    "greeting('Erin')"
   ]
  },
  {
   "cell_type": "code",
   "execution_count": 34,
   "id": "ea8599df",
   "metadata": {},
   "outputs": [
    {
     "data": {
      "text/plain": [
       "array(['hello Jim', 'hello Dwight', 'hello Michael', 'hello Creed'],\n",
       "      dtype='<U13')"
      ]
     },
     "execution_count": 34,
     "metadata": {},
     "output_type": "execute_result"
    }
   ],
   "source": [
    "student.apply(say_hello, 'Name')"
   ]
  },
  {
   "cell_type": "code",
   "execution_count": 40,
   "id": "2bec5c34",
   "metadata": {},
   "outputs": [],
   "source": [
    "def name_and_age(name, year):\n",
    "    age = 2022 - year -1\n",
    "    return name + ' is ' + str(age) + ' years old'"
   ]
  },
  {
   "cell_type": "code",
   "execution_count": 41,
   "id": "beee9e99",
   "metadata": {},
   "outputs": [
    {
     "data": {
      "text/plain": [
       "'CJ is 24 years old'"
      ]
     },
     "execution_count": 41,
     "metadata": {},
     "output_type": "execute_result"
    }
   ],
   "source": [
    "name_and_age('CJ',1997)"
   ]
  },
  {
   "cell_type": "code",
   "execution_count": 43,
   "id": "e3dedc7a",
   "metadata": {},
   "outputs": [
    {
     "data": {
      "text/plain": [
       "array(['Jim is 36 years old', 'Dwight is 33 years old',\n",
       "       'Michael is 54 years old', 'Creed is 117 years old'], dtype='<U23')"
      ]
     },
     "execution_count": 43,
     "metadata": {},
     "output_type": "execute_result"
    }
   ],
   "source": [
    "student2 = student.apply(name_and_age, 'Name','Birth Year')\n",
    "student2\n",
    "#Table().with_column('name_and_age', )"
   ]
  },
  {
   "cell_type": "code",
   "execution_count": null,
   "id": "9ab3ab79",
   "metadata": {},
   "outputs": [],
   "source": [
    "name_and_age('Thomas',2006)"
   ]
  },
  {
   "cell_type": "markdown",
   "id": "ae0566bc",
   "metadata": {},
   "source": [
    "## Grouping by One Column: Ice cream Cones"
   ]
  },
  {
   "cell_type": "code",
   "execution_count": 44,
   "id": "5d088c84",
   "metadata": {},
   "outputs": [],
   "source": [
    "cones = Table.read_table('../data/cones.csv')"
   ]
  },
  {
   "cell_type": "code",
   "execution_count": 45,
   "id": "7464be86",
   "metadata": {},
   "outputs": [
    {
     "data": {
      "text/html": [
       "<table border=\"1\" class=\"dataframe\">\n",
       "    <thead>\n",
       "        <tr>\n",
       "            <th>Flavor</th> <th>Color</th> <th>Price</th>\n",
       "        </tr>\n",
       "    </thead>\n",
       "    <tbody>\n",
       "        <tr>\n",
       "            <td>strawberry</td> <td>pink       </td> <td>3.55 </td>\n",
       "        </tr>\n",
       "        <tr>\n",
       "            <td>chocolate </td> <td>light brown</td> <td>4.75 </td>\n",
       "        </tr>\n",
       "        <tr>\n",
       "            <td>chocolate </td> <td>dark brown </td> <td>5.25 </td>\n",
       "        </tr>\n",
       "        <tr>\n",
       "            <td>strawberry</td> <td>pink       </td> <td>5.25 </td>\n",
       "        </tr>\n",
       "        <tr>\n",
       "            <td>chocolate </td> <td>dark brown </td> <td>5.25 </td>\n",
       "        </tr>\n",
       "        <tr>\n",
       "            <td>bubblegum </td> <td>pink       </td> <td>4.75 </td>\n",
       "        </tr>\n",
       "    </tbody>\n",
       "</table>"
      ],
      "text/plain": [
       "Flavor     | Color       | Price\n",
       "strawberry | pink        | 3.55\n",
       "chocolate  | light brown | 4.75\n",
       "chocolate  | dark brown  | 5.25\n",
       "strawberry | pink        | 5.25\n",
       "chocolate  | dark brown  | 5.25\n",
       "bubblegum  | pink        | 4.75"
      ]
     },
     "execution_count": 45,
     "metadata": {},
     "output_type": "execute_result"
    }
   ],
   "source": [
    "cones"
   ]
  },
  {
   "cell_type": "code",
   "execution_count": null,
   "id": "754c0603",
   "metadata": {},
   "outputs": [],
   "source": [
    "pivot_cones = cones.pivot('Color','Flavor', 'Price', np.max)\n",
    "pivot_cones"
   ]
  },
  {
   "cell_type": "code",
   "execution_count": 57,
   "id": "2041f079",
   "metadata": {},
   "outputs": [
    {
     "data": {
      "image/png": "[encoded data removed]",
      "text/plain": [
       "<Figure size 432x288 with 1 Axes>"
      ]
     },
     "metadata": {},
     "output_type": "display_data"
    }
   ],
   "source": [
    "cones.drop('Color').group('Flavor', np.average).barh('Flavor')"
   ]
  },
  {
   "cell_type": "code",
   "execution_count": 50,
   "id": "c290e201",
   "metadata": {},
   "outputs": [
    {
     "name": "stderr",
     "output_type": "stream",
     "text": [
      "/Users/karenchen/opt/anaconda3/lib/python3.8/site-packages/datascience/tables.py:999: VisibleDeprecationWarning: Creating an ndarray from ragged nested sequences (which is a list-or-tuple of lists-or-tuples-or ndarrays with different lengths or shapes) is deprecated. If you meant to do this, you must specify 'dtype=object' when creating the ndarray.\n",
      "  values = np.array(tuple(values))\n"
     ]
    },
    {
     "data": {
      "text/plain": [
       "4"
      ]
     },
     "execution_count": 50,
     "metadata": {},
     "output_type": "execute_result"
    }
   ],
   "source": [
    "cones.group(['Color','Flavor']).num_rows"
   ]
  },
  {
   "cell_type": "code",
   "execution_count": null,
   "id": "29b19363",
   "metadata": {},
   "outputs": [],
   "source": [
    "(3.55+5.25)/2\n"
   ]
  },
  {
   "cell_type": "code",
   "execution_count": null,
   "id": "ad18cf49",
   "metadata": {
    "scrolled": true
   },
   "outputs": [],
   "source": [
    "cones.drop('Color').group('Flavor', np.average)"
   ]
  },
  {
   "cell_type": "code",
   "execution_count": null,
   "id": "52a85326",
   "metadata": {},
   "outputs": [],
   "source": [
    "# Question: what if you don't drop color, what will happen?\n",
    "cones.group('Flavor', np.average)"
   ]
  },
  {
   "cell_type": "code",
   "execution_count": null,
   "id": "5b43fec8",
   "metadata": {
    "scrolled": true
   },
   "outputs": [],
   "source": [
    "cones.drop('Color').group('Flavor', min)"
   ]
  },
  {
   "cell_type": "markdown",
   "id": "6ad61672",
   "metadata": {},
   "source": [
    "## Grouping By One Column: Welcome Survey ##"
   ]
  },
  {
   "cell_type": "code",
   "execution_count": null,
   "id": "774fbce1",
   "metadata": {},
   "outputs": [],
   "source": [
    "survey = Table.read_table('../data/welcome_survey_v2.csv')\n",
    "survey\n",
    "# what kind of table is it? a transaction table or aggregated/summary table, what is the unit of analysis?"
   ]
  },
  {
   "cell_type": "code",
   "execution_count": null,
   "id": "3100c42b",
   "metadata": {},
   "outputs": [],
   "source": [
    "survey.group('Year', np.average)"
   ]
  },
  {
   "cell_type": "code",
   "execution_count": null,
   "id": "1d33f12d",
   "metadata": {},
   "outputs": [],
   "source": [
    "by_extra = survey.group('Extraversion', np.average)\n",
    "by_extra"
   ]
  },
  {
   "cell_type": "code",
   "execution_count": null,
   "id": "272380b9",
   "metadata": {},
   "outputs": [],
   "source": [
    "by_extra.select(0,2,3).plot('Extraversion') # Drop the 'Years average' column"
   ]
  },
  {
   "cell_type": "code",
   "execution_count": null,
   "id": "5f4a7e38",
   "metadata": {
    "scrolled": true
   },
   "outputs": [],
   "source": [
    "by_extra.select(0,3).plot('Extraversion')"
   ]
  },
  {
   "cell_type": "markdown",
   "id": "699eb7f1",
   "metadata": {},
   "source": [
    "## Grouping by Two Columns ##"
   ]
  },
  {
   "cell_type": "code",
   "execution_count": null,
   "id": "bb93d0e8",
   "metadata": {},
   "outputs": [],
   "source": [
    "survey = Table.read_table('../../data/welcome_survey_v3.csv')\n",
    "survey"
   ]
  },
  {
   "cell_type": "code",
   "execution_count": null,
   "id": "0ca4ceef",
   "metadata": {},
   "outputs": [],
   "source": [
    "survey.group(['Handedness','Sleep position'])"
   ]
  },
  {
   "cell_type": "code",
   "execution_count": null,
   "id": "ee6bdfe7",
   "metadata": {},
   "outputs": [],
   "source": [
    "#sum(g.column(2))\n",
    "survey.num_rows"
   ]
  },
  {
   "cell_type": "markdown",
   "id": "882253b8",
   "metadata": {},
   "source": [
    "## Pivot Tables"
   ]
  },
  {
   "cell_type": "code",
   "execution_count": null,
   "id": "3ecaa678",
   "metadata": {},
   "outputs": [],
   "source": [
    "survey.pivot('Handedness', 'Sleep position')"
   ]
  },
  {
   "cell_type": "code",
   "execution_count": null,
   "id": "9de424c7",
   "metadata": {},
   "outputs": [],
   "source": [
    "survey.pivot( 'Handedness', 'Sleep position', 'Hours of sleep', collect=np.average)"
   ]
  },
  {
   "cell_type": "code",
   "execution_count": null,
   "id": "6d6bba7f",
   "metadata": {},
   "outputs": [],
   "source": [
    "survey.group('Handedness', np.average)"
   ]
  },
  {
   "cell_type": "code",
   "execution_count": null,
   "id": "c1e1a9f8",
   "metadata": {},
   "outputs": [],
   "source": [
    "sky = Table.read_table('../../data/skyscrapers.csv')\n",
    "sky"
   ]
  },
  {
   "cell_type": "code",
   "execution_count": null,
   "id": "82c42f0c",
   "metadata": {
    "scrolled": true
   },
   "outputs": [],
   "source": [
    "#For each city, what’s the tallest building for each material?\n",
    "#For each city, what’s the age difference between the oldest  steel building and the oldest concrete building?"
   ]
  },
  {
   "cell_type": "code",
   "execution_count": null,
   "id": "71e763a6",
   "metadata": {},
   "outputs": [],
   "source": []
  },
  {
   "cell_type": "code",
   "execution_count": null,
   "id": "a326cc13",
   "metadata": {},
   "outputs": [],
   "source": []
  }
 ],
 "metadata": {
  "kernelspec": {
   "display_name": "Python 3",
   "language": "python",
   "name": "python3"
  },
  "language_info": {
   "codemirror_mode": {
    "name": "ipython",
    "version": 3
   },
   "file_extension": ".py",
   "mimetype": "text/x-python",
   "name": "python",
   "nbconvert_exporter": "python",
   "pygments_lexer": "ipython3",
   "version": "3.8.8"
  }
 },
 "nbformat": 4,
 "nbformat_minor": 5
}
